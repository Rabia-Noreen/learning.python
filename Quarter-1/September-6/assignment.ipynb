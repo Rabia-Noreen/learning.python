{
 "cells": [
  {
   "cell_type": "code",
   "execution_count": 1,
   "metadata": {},
   "outputs": [
    {
     "name": "stdout",
     "output_type": "stream",
     "text": [
      "Ali\n",
      "Sara\n",
      "John\n",
      "Ayesha\n"
     ]
    }
   ],
   "source": [
    "names = ['Ali', 'Sara', 'John', 'Ayesha']\n",
    "for name in names:\n",
    "    print(name)\n"
   ]
  },
  {
   "cell_type": "code",
   "execution_count": 2,
   "metadata": {},
   "outputs": [
    {
     "name": "stdout",
     "output_type": "stream",
     "text": [
      "Hello Ali, hope you're doing well!\n",
      "Hello Sara, hope you're doing well!\n",
      "Hello John, hope you're doing well!\n",
      "Hello Ayesha, hope you're doing well!\n"
     ]
    }
   ],
   "source": [
    "names = ['Ali', 'Sara', 'John', 'Ayesha']\n",
    "for name in names:\n",
    "    print(f\"Hello {name}, hope you're doing well!\")\n"
   ]
  },
  {
   "cell_type": "code",
   "execution_count": 3,
   "metadata": {},
   "outputs": [
    {
     "name": "stdout",
     "output_type": "stream",
     "text": [
      "I would like to own a Honda motorcycle.\n",
      "I would like to own a Toyota car.\n",
      "I would like to own a Yamaha bike.\n"
     ]
    }
   ],
   "source": [
    "vehicles = ['Honda motorcycle', 'Toyota car', 'Yamaha bike']\n",
    "for vehicle in vehicles:\n",
    "    print(f\"I would like to own a {vehicle}.\")\n"
   ]
  },
  {
   "cell_type": "code",
   "execution_count": 4,
   "metadata": {},
   "outputs": [
    {
     "name": "stdout",
     "output_type": "stream",
     "text": [
      "Dear Albert Einstein, I would like to invite you to dinner.\n",
      "Dear Nelson Mandela, I would like to invite you to dinner.\n",
      "Dear Marie Curie, I would like to invite you to dinner.\n"
     ]
    }
   ],
   "source": [
    "guests = ['Albert Einstein', 'Nelson Mandela', 'Marie Curie']\n",
    "for guest in guests:\n",
    "    print(f\"Dear {guest}, I would like to invite you to dinner.\")\n"
   ]
  },
  {
   "cell_type": "code",
   "execution_count": 5,
   "metadata": {},
   "outputs": [
    {
     "name": "stdout",
     "output_type": "stream",
     "text": [
      "Unfortunately, Nelson Mandela can't make it.\n",
      "Dear Albert Einstein, I would like to invite you to dinner.\n",
      "Dear Isaac Newton, I would like to invite you to dinner.\n",
      "Dear Marie Curie, I would like to invite you to dinner.\n"
     ]
    }
   ],
   "source": [
    "guests = ['Albert Einstein', 'Nelson Mandela', 'Marie Curie']\n",
    "print(f\"Unfortunately, {guests[1]} can't make it.\")\n",
    "guests[1] = 'Isaac Newton'\n",
    "\n",
    "for guest in guests:\n",
    "    print(f\"Dear {guest}, I would like to invite you to dinner.\")\n"
   ]
  },
  {
   "cell_type": "code",
   "execution_count": 6,
   "metadata": {},
   "outputs": [
    {
     "name": "stdout",
     "output_type": "stream",
     "text": [
      "We found a bigger table!\n",
      "Dear Galileo Galilei, I would like to invite you to dinner.\n",
      "Dear Albert Einstein, I would like to invite you to dinner.\n",
      "Dear Charles Darwin, I would like to invite you to dinner.\n",
      "Dear Isaac Newton, I would like to invite you to dinner.\n",
      "Dear Marie Curie, I would like to invite you to dinner.\n",
      "Dear Leonardo da Vinci, I would like to invite you to dinner.\n"
     ]
    }
   ],
   "source": [
    "guests = ['Albert Einstein', 'Isaac Newton', 'Marie Curie']\n",
    "print(\"We found a bigger table!\")\n",
    "\n",
    "guests.insert(0, 'Galileo Galilei')\n",
    "guests.insert(2, 'Charles Darwin')\n",
    "guests.append('Leonardo da Vinci')\n",
    "\n",
    "for guest in guests:\n",
    "    print(f\"Dear {guest}, I would like to invite you to dinner.\")\n"
   ]
  },
  {
   "cell_type": "code",
   "execution_count": 7,
   "metadata": {},
   "outputs": [
    {
     "name": "stdout",
     "output_type": "stream",
     "text": [
      "Sorry, I can invite only two people.\n",
      "Sorry Leonardo da Vinci, I can't invite you to dinner.\n",
      "Sorry Marie Curie, I can't invite you to dinner.\n",
      "Sorry Isaac Newton, I can't invite you to dinner.\n",
      "Sorry Charles Darwin, I can't invite you to dinner.\n",
      "Galileo Galilei, you're still invited!\n",
      "Albert Einstein, you're still invited!\n",
      "[]\n"
     ]
    }
   ],
   "source": [
    "guests = ['Galileo Galilei', 'Albert Einstein', 'Charles Darwin', 'Isaac Newton', 'Marie Curie', 'Leonardo da Vinci']\n",
    "print(\"Sorry, I can invite only two people.\")\n",
    "\n",
    "while len(guests) > 2:\n",
    "    removed_guest = guests.pop()\n",
    "    print(f\"Sorry {removed_guest}, I can't invite you to dinner.\")\n",
    "\n",
    "for guest in guests:\n",
    "    print(f\"{guest}, you're still invited!\")\n",
    "\n",
    "del guests[:]\n",
    "print(guests)  # Output should be an empty list\n"
   ]
  },
  {
   "cell_type": "code",
   "execution_count": 9,
   "metadata": {},
   "outputs": [
    {
     "name": "stdout",
     "output_type": "stream",
     "text": [
      "Original order: ['Japan', 'Iceland', 'New Zealand', 'Norway', 'Switzerland']\n",
      "Alphabetical order: ['Iceland', 'Japan', 'New Zealand', 'Norway', 'Switzerland']\n",
      "Original order after sorted(): ['Japan', 'Iceland', 'New Zealand', 'Norway', 'Switzerland']\n",
      "Reverse alphabetical order: ['Switzerland', 'Norway', 'New Zealand', 'Japan', 'Iceland']\n",
      "Original order after reverse sorted(): ['Japan', 'Iceland', 'New Zealand', 'Norway', 'Switzerland']\n",
      "Reversed list: ['Switzerland', 'Norway', 'New Zealand', 'Iceland', 'Japan']\n",
      "Back to original order: ['Japan', 'Iceland', 'New Zealand', 'Norway', 'Switzerland']\n",
      "Sorted list: ['Iceland', 'Japan', 'New Zealand', 'Norway', 'Switzerland']\n",
      "Reverse sorted list: ['Switzerland', 'Norway', 'New Zealand', 'Japan', 'Iceland']\n"
     ]
    }
   ],
   "source": [
    "places = ['Japan', 'Iceland', 'New Zealand', 'Norway', 'Switzerland']\n",
    "print(\"Original order:\", places)\n",
    "\n",
    "# Sorted alphabetically\n",
    "print(\"Alphabetical order:\", sorted(places))\n",
    "\n",
    "# Original order remains the same\n",
    "print(\"Original order after sorted():\", places)\n",
    "\n",
    "# Reverse alphabetical order\n",
    "print(\"Reverse alphabetical order:\", sorted(places, reverse=True))\n",
    "\n",
    "# Original order remains the same\n",
    "print(\"Original order after reverse sorted():\", places)\n",
    "\n",
    "# Reverse the list\n",
    "places.reverse()\n",
    "print(\"Reversed list:\", places)\n",
    "\n",
    "# Reverse it back to the original order\n",
    "places.reverse()\n",
    "print(\"Back to original order:\", places)\n",
    "\n",
    "# Sort the list alphabetically\n",
    "places.sort()\n",
    "print(\"Sorted list:\", places)\n",
    "\n",
    "# Sort in reverse-alphabetical order\n",
    "places.sort(reverse=True)\n",
    "print(\"Reverse sorted list:\", places)\n"
   ]
  },
  {
   "cell_type": "code",
   "execution_count": 10,
   "metadata": {},
   "outputs": [
    {
     "name": "stdout",
     "output_type": "stream",
     "text": [
      "Original list: ['USA', 'Japan', 'Canada', 'Australia', 'Germany']\n",
      "After append: ['USA', 'Japan', 'Canada', 'Australia', 'Germany', 'Brazil']\n",
      "After insert: ['USA', 'Japan', 'India', 'Canada', 'Australia', 'Germany', 'Brazil']\n",
      "After remove: ['USA', 'Japan', 'India', 'Canada', 'Australia', 'Brazil']\n",
      "Popped country: Brazil\n",
      "After pop: ['USA', 'Japan', 'India', 'Canada', 'Australia']\n",
      "Canada appears 1 times\n",
      "Sorted list: ['Australia', 'Canada', 'India', 'Japan', 'USA']\n",
      "Reversed list: ['USA', 'Japan', 'India', 'Canada', 'Australia']\n",
      "Copied list: ['USA', 'Japan', 'India', 'Canada', 'Australia']\n",
      "Cleared list: []\n"
     ]
    }
   ],
   "source": [
    "countries = ['USA', 'Japan', 'Canada', 'Australia', 'Germany']\n",
    "print(\"Original list:\", countries)\n",
    "\n",
    "# Append a country\n",
    "countries.append('Brazil')\n",
    "print(\"After append:\", countries)\n",
    "\n",
    "# Insert a country\n",
    "countries.insert(2, 'India')\n",
    "print(\"After insert:\", countries)\n",
    "\n",
    "# Remove a country\n",
    "countries.remove('Germany')\n",
    "print(\"After remove:\", countries)\n",
    "\n",
    "# Pop a country\n",
    "popped_country = countries.pop()\n",
    "print(f\"Popped country: {popped_country}\")\n",
    "print(\"After pop:\", countries)\n",
    "\n",
    "# Count occurrences of a country\n",
    "count = countries.count('Canada')\n",
    "print(f\"Canada appears {count} times\")\n",
    "\n",
    "# Sort the list\n",
    "countries.sort()\n",
    "print(\"Sorted list:\", countries)\n",
    "\n",
    "# Reverse the list\n",
    "countries.reverse()\n",
    "print(\"Reversed list:\", countries)\n",
    "\n",
    "# Copy the list\n",
    "copied_countries = countries.copy()\n",
    "print(\"Copied list:\", copied_countries)\n",
    "\n",
    "# Clear the list\n",
    "countries.clear()\n",
    "print(\"Cleared list:\", countries)\n"
   ]
  },
  {
   "cell_type": "code",
   "execution_count": 11,
   "metadata": {},
   "outputs": [
    {
     "name": "stdout",
     "output_type": "stream",
     "text": [
      "John\n"
     ]
    }
   ],
   "source": [
    "names = ['Ali', 'Sara', 'John']\n",
    "# Intentional error\n",
    "# print(names[3])  # This will raise an IndexError: list index out of range\n",
    "\n",
    "# Corrected version\n",
    "print(names[2])  # Accessing a valid index\n"
   ]
  }
 ],
 "metadata": {
  "kernelspec": {
   "display_name": "Python 3",
   "language": "python",
   "name": "python3"
  },
  "language_info": {
   "codemirror_mode": {
    "name": "ipython",
    "version": 3
   },
   "file_extension": ".py",
   "mimetype": "text/x-python",
   "name": "python",
   "nbconvert_exporter": "python",
   "pygments_lexer": "ipython3",
   "version": "3.12.5"
  }
 },
 "nbformat": 4,
 "nbformat_minor": 2
}
