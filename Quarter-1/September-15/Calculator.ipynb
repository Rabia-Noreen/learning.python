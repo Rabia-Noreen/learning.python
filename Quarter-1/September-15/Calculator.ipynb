{
  "nbformat": 4,
  "nbformat_minor": 0,
  "metadata": {
    "colab": {
      "provenance": [],
      "authorship_tag": "ABX9TyNb6n1gTSHgrTJklc6IMeiE",
      "include_colab_link": true
    },
    "kernelspec": {
      "name": "python3",
      "display_name": "Python 3"
    },
    "language_info": {
      "name": "python"
    }
  },
  "cells": [
    {
      "cell_type": "markdown",
      "metadata": {
        "id": "view-in-github",
        "colab_type": "text"
      },
      "source": [
        "<a href=\"https://colab.research.google.com/github/Rabia-Noreen/learning.python/blob/main/Quarter-1/September-15/Calculator.ipynb\" target=\"_parent\"><img src=\"https://colab.research.google.com/assets/colab-badge.svg\" alt=\"Open In Colab\"/></a>"
      ]
    },
    {
      "cell_type": "code",
      "execution_count": 1,
      "metadata": {
        "colab": {
          "base_uri": "https://localhost:8080/"
        },
        "id": "swj2lIQBRWqm",
        "outputId": "5f2779cd-597d-42bb-85b7-c470093713db"
      },
      "outputs": [
        {
          "output_type": "stream",
          "name": "stdout",
          "text": [
            "Select operation:\n",
            "1. Addition\n",
            "2. Subtraction\n",
            "3. Multiplication\n",
            "4. Division\n",
            "5. Modulus\n",
            "6. Exponentiation\n",
            "Enter choice (1/2/3/4/5/6): 1\n",
            "Enter first number: 2\n",
            "Enter second number: 3\n",
            "2.0 + 3.0 = 5.0\n"
          ]
        }
      ],
      "source": [
        "def add(a, b):\n",
        "    return a + b\n",
        "def subtract(a, b):\n",
        "    return a - b\n",
        "def multiply(a, b):\n",
        "    return a * b\n",
        "\n",
        "def divide(a, b):\n",
        "    if b == 0:\n",
        "        return \"Error: Division by zero is not allowed.\"\n",
        "    return a / b\n",
        "\n",
        "def modulus(a, b):\n",
        "    return a % b\n",
        "\n",
        "def power(a, b):\n",
        "    return a ** b\n",
        "\n",
        "def calculator():\n",
        "    print(\"Select operation:\")\n",
        "    print(\"1. Addition\")\n",
        "    print(\"2. Subtraction\")\n",
        "    print(\"3. Multiplication\")\n",
        "    print(\"4. Division\")\n",
        "    print(\"5. Modulus\")\n",
        "    print(\"6. Exponentiation\")\n",
        "\n",
        "    choice = input(\"Enter choice (1/2/3/4/5/6): \")\n",
        "\n",
        "    if choice in ['1', '2', '3', '4', '5', '6']:\n",
        "        num1 = float(input(\"Enter first number: \"))\n",
        "        num2 = float(input(\"Enter second number: \"))\n",
        "\n",
        "        if choice == '1':\n",
        "            print(f\"{num1} + {num2} = {add(num1, num2)}\")\n",
        "\n",
        "        elif choice == '2':\n",
        "            print(f\"{num1} - {num2} = {subtract(num1, num2)}\")\n",
        "\n",
        "        elif choice == '3':\n",
        "            print(f\"{num1} * {num2} = {multiply(num1, num2)}\")\n",
        "\n",
        "        elif choice == '4':\n",
        "            print(f\"{num1} / {num2} = {divide(num1, num2)}\")\n",
        "\n",
        "        elif choice == '5':\n",
        "            print(f\"{num1} % {num2} = {modulus(num1, num2)}\")\n",
        "\n",
        "        elif choice == '6':\n",
        "            print(f\"{num1} ^ {num2} = {power(num1, num2)}\")\n",
        "\n",
        "    else:\n",
        "        print(\"Invalid Input\")\n",
        "calculator()"
      ]
    }
  ]
}